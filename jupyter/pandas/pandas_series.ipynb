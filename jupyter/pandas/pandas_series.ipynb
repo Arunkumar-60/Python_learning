{
 "cells": [
  {
   "cell_type": "code",
   "execution_count": 191,
   "id": "48b2a99b-5b2a-4c52-b479-7e58b8cee8ec",
   "metadata": {},
   "outputs": [],
   "source": [
    "import numpy as np\n",
    "import pandas as pd"
   ]
  },
  {
   "cell_type": "code",
   "execution_count": 192,
   "id": "548ccb83-6cd5-4c3f-99b5-7c61a20aeed2",
   "metadata": {},
   "outputs": [],
   "source": [
    "my_labels=['x','y','z']\n",
    "my_data=[100,200,300]"
   ]
  },
  {
   "cell_type": "code",
   "execution_count": 193,
   "id": "3b2452c9-37a2-4f50-878e-a09d397d85d8",
   "metadata": {},
   "outputs": [
    {
     "data": {
      "text/plain": [
       "0    100\n",
       "1    200\n",
       "2    300\n",
       "dtype: int64"
      ]
     },
     "execution_count": 193,
     "metadata": {},
     "output_type": "execute_result"
    }
   ],
   "source": [
    "pd.Series(data=my_data)\n",
    "#converting python list to pandas list\n",
    "#Shift + TAB will focus on data and index at the moment"
   ]
  },
  {
   "cell_type": "code",
   "execution_count": 194,
   "id": "c0284002-963d-440a-b69c-33f833bb694e",
   "metadata": {},
   "outputs": [],
   "source": [
    "dic_1={'torento':200,'hyderbad':300,'mumbai':500,'chennai':700,'delhi':1000}\n",
    "dic_2={'torento':200,'mumbai':500,'chennai':700,}\n",
    "dic_3={'torento':200,'hyderbad':300,'chennai':700,'delhi':1000}"
   ]
  },
  {
   "cell_type": "code",
   "execution_count": 195,
   "id": "da42e9c9-c7b8-4281-912f-30f5e03167be",
   "metadata": {},
   "outputs": [],
   "source": [
    "ser1=pd.Series(dic_1)\n",
    "ser2=pd.Series(dic_2)\n",
    "ser3=pd.Series(dic_3)"
   ]
  },
  {
   "cell_type": "code",
   "execution_count": 196,
   "id": "ee37892b",
   "metadata": {},
   "outputs": [
    {
     "data": {
      "text/plain": [
       "chennai     1400.0\n",
       "delhi          NaN\n",
       "hyderbad       NaN\n",
       "mumbai      1000.0\n",
       "torento      400.0\n",
       "dtype: float64"
      ]
     },
     "execution_count": 196,
     "metadata": {},
     "output_type": "execute_result"
    }
   ],
   "source": [
    "ser4=ser1+ser2\n",
    "ser4\n"
   ]
  },
  {
   "cell_type": "code",
   "execution_count": 197,
   "id": "004dd89e-d9e2-46df-b93e-a01c79b4eeba",
   "metadata": {},
   "outputs": [
    {
     "data": {
      "text/plain": [
       "chennai     False\n",
       "delhi        True\n",
       "hyderbad     True\n",
       "mumbai      False\n",
       "torento     False\n",
       "dtype: bool"
      ]
     },
     "execution_count": 197,
     "metadata": {},
     "output_type": "execute_result"
    }
   ],
   "source": [
    "ser4.isnull()"
   ]
  },
  {
   "cell_type": "code",
   "execution_count": null,
   "id": "c7b589a3-ac41-43c6-bd9c-0026a6b0cb5d",
   "metadata": {},
   "outputs": [],
   "source": []
  },
  {
   "cell_type": "code",
   "execution_count": 198,
   "id": "db882ae4-f0cb-4e91-94aa-8be37f33fe57",
   "metadata": {},
   "outputs": [],
   "source": [
    "ser4=ser1+ser2\n",
    "ser5=ser1+ser3"
   ]
  },
  {
   "cell_type": "code",
   "execution_count": 199,
   "id": "cf0ea72d-3e44-469d-bafa-d1ed2bd7ae50",
   "metadata": {},
   "outputs": [
    {
     "data": {
      "text/plain": [
       "chennai      True\n",
       "delhi       False\n",
       "hyderbad    False\n",
       "mumbai       True\n",
       "torento      True\n",
       "dtype: bool"
      ]
     },
     "execution_count": 199,
     "metadata": {},
     "output_type": "execute_result"
    }
   ],
   "source": [
    "ser4.notnull()"
   ]
  },
  {
   "cell_type": "code",
   "execution_count": 200,
   "id": "60080edf-bdf9-4b84-90f2-86a5200140bf",
   "metadata": {},
   "outputs": [],
   "source": [
    "#axis , values"
   ]
  },
  {
   "cell_type": "code",
   "execution_count": 201,
   "id": "ba61a9e8-cd47-487c-b3cd-6d8dff2189c5",
   "metadata": {},
   "outputs": [
    {
     "data": {
      "text/plain": [
       "chennai    1400.0\n",
       "dtype: float64"
      ]
     },
     "execution_count": 201,
     "metadata": {},
     "output_type": "execute_result"
    }
   ],
   "source": [
    "ser4.head(1)"
   ]
  },
  {
   "cell_type": "code",
   "execution_count": 202,
   "id": "2ea47022-8497-409b-986b-c2e57f6b730f",
   "metadata": {},
   "outputs": [
    {
     "data": {
      "text/plain": [
       "torento    400.0\n",
       "dtype: float64"
      ]
     },
     "execution_count": 202,
     "metadata": {},
     "output_type": "execute_result"
    }
   ],
   "source": [
    "ser4.tail(1)"
   ]
  }
 ],
 "metadata": {
  "kernelspec": {
   "display_name": "Python 3 (ipykernel)",
   "language": "python",
   "name": "python3"
  },
  "language_info": {
   "codemirror_mode": {
    "name": "ipython",
    "version": 3
   },
   "file_extension": ".py",
   "mimetype": "text/x-python",
   "name": "python",
   "nbconvert_exporter": "python",
   "pygments_lexer": "ipython3",
   "version": "3.10.11"
  }
 },
 "nbformat": 4,
 "nbformat_minor": 5
}
