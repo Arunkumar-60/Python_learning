{
 "cells": [
  {
   "cell_type": "code",
   "execution_count": 363,
   "id": "26112f96-147f-424b-bac8-51bbcb364135",
   "metadata": {},
   "outputs": [],
   "source": [
    "import numpy as np\n",
    "import pandas as pd"
   ]
  },
  {
   "cell_type": "code",
   "execution_count": 364,
   "id": "48b11b3e-d8e0-45ff-a81e-5855b7550bb5",
   "metadata": {},
   "outputs": [
    {
     "data": {
      "text/html": [
       "<div>\n",
       "<style scoped>\n",
       "    .dataframe tbody tr th:only-of-type {\n",
       "        vertical-align: middle;\n",
       "    }\n",
       "\n",
       "    .dataframe tbody tr th {\n",
       "        vertical-align: top;\n",
       "    }\n",
       "\n",
       "    .dataframe thead th {\n",
       "        text-align: right;\n",
       "    }\n",
       "</style>\n",
       "<table border=\"1\" class=\"dataframe\">\n",
       "  <thead>\n",
       "    <tr style=\"text-align: right;\">\n",
       "      <th></th>\n",
       "      <th>col_1</th>\n",
       "      <th>col_2</th>\n",
       "      <th>col_3</th>\n",
       "    </tr>\n",
       "  </thead>\n",
       "  <tbody>\n",
       "    <tr>\n",
       "      <th>1</th>\n",
       "      <td>1</td>\n",
       "      <td>111</td>\n",
       "      <td>alpha</td>\n",
       "    </tr>\n",
       "    <tr>\n",
       "      <th>2</th>\n",
       "      <td>2</td>\n",
       "      <td>222</td>\n",
       "      <td>bravo</td>\n",
       "    </tr>\n",
       "    <tr>\n",
       "      <th>3</th>\n",
       "      <td>3</td>\n",
       "      <td>333</td>\n",
       "      <td>charlie</td>\n",
       "    </tr>\n",
       "    <tr>\n",
       "      <th>4</th>\n",
       "      <td>4</td>\n",
       "      <td>111</td>\n",
       "      <td>NaN</td>\n",
       "    </tr>\n",
       "    <tr>\n",
       "      <th>5</th>\n",
       "      <td>5</td>\n",
       "      <td>555</td>\n",
       "      <td>NaN</td>\n",
       "    </tr>\n",
       "  </tbody>\n",
       "</table>\n",
       "</div>"
      ],
      "text/plain": [
       "   col_1  col_2    col_3\n",
       "1      1    111    alpha\n",
       "2      2    222    bravo\n",
       "3      3    333  charlie\n",
       "4      4    111      NaN\n",
       "5      5    555      NaN"
      ]
     },
     "execution_count": 364,
     "metadata": {},
     "output_type": "execute_result"
    }
   ],
   "source": [
    "data_dic={\n",
    "    'col_1':[1,2,3,4,5],\n",
    "    'col_2':[111,222,333,111,555],\n",
    "    'col_3':['alpha','bravo','charlie',np.nan,np.nan]\n",
    "}\n",
    "df=pd.DataFrame(data_dic,index=[1,2,3,4,5])\n",
    "df\n"
   ]
  },
  {
   "cell_type": "code",
   "execution_count": 365,
   "id": "d5b3a1df-7489-4cb4-9f15-9bb842508476",
   "metadata": {},
   "outputs": [
    {
     "name": "stdout",
     "output_type": "stream",
     "text": [
      "<class 'pandas.core.frame.DataFrame'>\n",
      "Index: 5 entries, 1 to 5\n",
      "Data columns (total 3 columns):\n",
      " #   Column  Non-Null Count  Dtype \n",
      "---  ------  --------------  ----- \n",
      " 0   col_1   5 non-null      int64 \n",
      " 1   col_2   5 non-null      int64 \n",
      " 2   col_3   3 non-null      object\n",
      "dtypes: int64(2), object(1)\n",
      "memory usage: 160.0+ bytes\n"
     ]
    }
   ],
   "source": [
    "df.info()"
   ]
  },
  {
   "cell_type": "code",
   "execution_count": 366,
   "id": "3e9f9912-7967-47a1-8798-05018756b912",
   "metadata": {},
   "outputs": [
    {
     "data": {
      "text/html": [
       "<div>\n",
       "<style scoped>\n",
       "    .dataframe tbody tr th:only-of-type {\n",
       "        vertical-align: middle;\n",
       "    }\n",
       "\n",
       "    .dataframe tbody tr th {\n",
       "        vertical-align: top;\n",
       "    }\n",
       "\n",
       "    .dataframe thead th {\n",
       "        text-align: right;\n",
       "    }\n",
       "</style>\n",
       "<table border=\"1\" class=\"dataframe\">\n",
       "  <thead>\n",
       "    <tr style=\"text-align: right;\">\n",
       "      <th></th>\n",
       "      <th>col_1</th>\n",
       "      <th>col_2</th>\n",
       "      <th>col_3</th>\n",
       "    </tr>\n",
       "  </thead>\n",
       "  <tbody>\n",
       "    <tr>\n",
       "      <th>1</th>\n",
       "      <td>1</td>\n",
       "      <td>111</td>\n",
       "      <td>alpha</td>\n",
       "    </tr>\n",
       "    <tr>\n",
       "      <th>2</th>\n",
       "      <td>2</td>\n",
       "      <td>222</td>\n",
       "      <td>bravo</td>\n",
       "    </tr>\n",
       "  </tbody>\n",
       "</table>\n",
       "</div>"
      ],
      "text/plain": [
       "   col_1  col_2  col_3\n",
       "1      1    111  alpha\n",
       "2      2    222  bravo"
      ]
     },
     "execution_count": 366,
     "metadata": {},
     "output_type": "execute_result"
    }
   ],
   "source": [
    "df.head(2)"
   ]
  },
  {
   "cell_type": "code",
   "execution_count": 367,
   "id": "239aa12b-d55c-4ace-8299-ec327fdaead0",
   "metadata": {},
   "outputs": [
    {
     "data": {
      "text/html": [
       "<div>\n",
       "<style scoped>\n",
       "    .dataframe tbody tr th:only-of-type {\n",
       "        vertical-align: middle;\n",
       "    }\n",
       "\n",
       "    .dataframe tbody tr th {\n",
       "        vertical-align: top;\n",
       "    }\n",
       "\n",
       "    .dataframe thead th {\n",
       "        text-align: right;\n",
       "    }\n",
       "</style>\n",
       "<table border=\"1\" class=\"dataframe\">\n",
       "  <thead>\n",
       "    <tr style=\"text-align: right;\">\n",
       "      <th></th>\n",
       "      <th>col_1</th>\n",
       "      <th>col_2</th>\n",
       "      <th>col_3</th>\n",
       "    </tr>\n",
       "  </thead>\n",
       "  <tbody>\n",
       "    <tr>\n",
       "      <th>1</th>\n",
       "      <td>False</td>\n",
       "      <td>False</td>\n",
       "      <td>False</td>\n",
       "    </tr>\n",
       "    <tr>\n",
       "      <th>2</th>\n",
       "      <td>False</td>\n",
       "      <td>False</td>\n",
       "      <td>False</td>\n",
       "    </tr>\n",
       "    <tr>\n",
       "      <th>3</th>\n",
       "      <td>False</td>\n",
       "      <td>False</td>\n",
       "      <td>False</td>\n",
       "    </tr>\n",
       "    <tr>\n",
       "      <th>4</th>\n",
       "      <td>False</td>\n",
       "      <td>False</td>\n",
       "      <td>True</td>\n",
       "    </tr>\n",
       "    <tr>\n",
       "      <th>5</th>\n",
       "      <td>False</td>\n",
       "      <td>False</td>\n",
       "      <td>True</td>\n",
       "    </tr>\n",
       "  </tbody>\n",
       "</table>\n",
       "</div>"
      ],
      "text/plain": [
       "   col_1  col_2  col_3\n",
       "1  False  False  False\n",
       "2  False  False  False\n",
       "3  False  False  False\n",
       "4  False  False   True\n",
       "5  False  False   True"
      ]
     },
     "execution_count": 367,
     "metadata": {},
     "output_type": "execute_result"
    }
   ],
   "source": [
    "df.isnull()"
   ]
  },
  {
   "cell_type": "code",
   "execution_count": 368,
   "id": "43b5f34f-a9a6-4631-be72-af99f21904fb",
   "metadata": {},
   "outputs": [
    {
     "name": "stdout",
     "output_type": "stream",
     "text": [
      "   col_1  col_2    col_3\n",
      "1      1    111    alpha\n",
      "2      2    222    bravo\n",
      "3      3    333  charlie\n",
      "   col_1  col_2\n",
      "1      1    111\n",
      "2      2    222\n",
      "3      3    333\n",
      "4      4    111\n",
      "5      5    555\n"
     ]
    }
   ],
   "source": [
    "print(df.dropna(axis=0)) #axis 0 deletes the rows , and drop na looks for nan values to delete the rows i.e 2 rows\n",
    "print(df.dropna(axis=1))  #axis 0 deletes the columns , and drop na looks for nan values to delete the columns\n"
   ]
  },
  {
   "cell_type": "code",
   "execution_count": 369,
   "id": "84b017c9-3451-47ab-96ff-119d91acf645",
   "metadata": {},
   "outputs": [
    {
     "name": "stdout",
     "output_type": "stream",
     "text": [
      "   col_1  col_2    col_3\n",
      "1      1    111    alpha\n",
      "2      2    222    bravo\n",
      "3      3    333  charlie\n",
      "4      4    111      xyz\n",
      "5      5    555      xyz\n",
      "   col_1  col_2    col_3\n",
      "1      1    111    alpha\n",
      "2      2    222    bravo\n",
      "3      3    333  charlie\n",
      "4      4    111  charlie\n",
      "5      5    555  charlie\n"
     ]
    }
   ],
   "source": [
    "print(df.fillna(value='xyz'))#replaceing the nan values with xyz string\n",
    "print(df.fillna(method='ffill')) #forward filling "
   ]
  },
  {
   "cell_type": "code",
   "execution_count": 370,
   "id": "50a2be1f-19cd-417c-8fde-a01f7dc64c64",
   "metadata": {},
   "outputs": [
    {
     "name": "stdout",
     "output_type": "stream",
     "text": [
      "[1 2 3 4 5]\n",
      "[111 222 333 555]\n",
      "['alpha' 'bravo' 'charlie' nan]\n"
     ]
    }
   ],
   "source": [
    "print(df['col_1'].unique())\n",
    "print(df['col_2'].unique())\n",
    "print(df['col_3'].unique())\n",
    "#111 and nan are repeated values so returns only once"
   ]
  },
  {
   "cell_type": "code",
   "execution_count": 371,
   "id": "cf166bcf-350c-4070-a690-da7646a07272",
   "metadata": {},
   "outputs": [
    {
     "name": "stdout",
     "output_type": "stream",
     "text": [
      "5\n",
      "4\n",
      "3\n"
     ]
    }
   ],
   "source": [
    "print(df['col_1'].nunique())\n",
    "print(df['col_2'].nunique())\n",
    "print(df['col_3'].nunique())"
   ]
  },
  {
   "cell_type": "code",
   "execution_count": 372,
   "id": "e3623827-9cab-47d7-8e3c-76af38d0238f",
   "metadata": {},
   "outputs": [
    {
     "name": "stdout",
     "output_type": "stream",
     "text": [
      "col_1\n",
      "1    1\n",
      "2    1\n",
      "3    1\n",
      "4    1\n",
      "5    1\n",
      "Name: count, dtype: int64\n",
      "col_2\n",
      "111    2\n",
      "222    1\n",
      "333    1\n",
      "555    1\n",
      "Name: count, dtype: int64\n",
      "col_3\n",
      "alpha      1\n",
      "bravo      1\n",
      "charlie    1\n",
      "Name: count, dtype: int64\n"
     ]
    }
   ],
   "source": [
    "print(df['col_1'].value_counts())\n",
    "print(df['col_2'].value_counts())\n",
    "print(df['col_3'].value_counts())"
   ]
  },
  {
   "cell_type": "code",
   "execution_count": 373,
   "id": "07b90684-e090-4717-9b0c-86df00973e1f",
   "metadata": {},
   "outputs": [
    {
     "data": {
      "text/html": [
       "<div>\n",
       "<style scoped>\n",
       "    .dataframe tbody tr th:only-of-type {\n",
       "        vertical-align: middle;\n",
       "    }\n",
       "\n",
       "    .dataframe tbody tr th {\n",
       "        vertical-align: top;\n",
       "    }\n",
       "\n",
       "    .dataframe thead th {\n",
       "        text-align: right;\n",
       "    }\n",
       "</style>\n",
       "<table border=\"1\" class=\"dataframe\">\n",
       "  <thead>\n",
       "    <tr style=\"text-align: right;\">\n",
       "      <th></th>\n",
       "      <th>col_1</th>\n",
       "      <th>col_2</th>\n",
       "      <th>col_3</th>\n",
       "    </tr>\n",
       "  </thead>\n",
       "  <tbody>\n",
       "    <tr>\n",
       "      <th>1</th>\n",
       "      <td>1</td>\n",
       "      <td>111</td>\n",
       "      <td>alpha</td>\n",
       "    </tr>\n",
       "    <tr>\n",
       "      <th>4</th>\n",
       "      <td>4</td>\n",
       "      <td>111</td>\n",
       "      <td>NaN</td>\n",
       "    </tr>\n",
       "    <tr>\n",
       "      <th>2</th>\n",
       "      <td>2</td>\n",
       "      <td>222</td>\n",
       "      <td>bravo</td>\n",
       "    </tr>\n",
       "    <tr>\n",
       "      <th>3</th>\n",
       "      <td>3</td>\n",
       "      <td>333</td>\n",
       "      <td>charlie</td>\n",
       "    </tr>\n",
       "    <tr>\n",
       "      <th>5</th>\n",
       "      <td>5</td>\n",
       "      <td>555</td>\n",
       "      <td>NaN</td>\n",
       "    </tr>\n",
       "  </tbody>\n",
       "</table>\n",
       "</div>"
      ],
      "text/plain": [
       "   col_1  col_2    col_3\n",
       "1      1    111    alpha\n",
       "4      4    111      NaN\n",
       "2      2    222    bravo\n",
       "3      3    333  charlie\n",
       "5      5    555      NaN"
      ]
     },
     "execution_count": 373,
     "metadata": {},
     "output_type": "execute_result"
    }
   ],
   "source": [
    "df.sort_values(by='col_2') #sorts the columns by using the columns"
   ]
  },
  {
   "cell_type": "code",
   "execution_count": 374,
   "id": "c3d4ee1d-b456-468f-b6f4-085d6268c093",
   "metadata": {},
   "outputs": [
    {
     "data": {
      "text/html": [
       "<div>\n",
       "<style scoped>\n",
       "    .dataframe tbody tr th:only-of-type {\n",
       "        vertical-align: middle;\n",
       "    }\n",
       "\n",
       "    .dataframe tbody tr th {\n",
       "        vertical-align: top;\n",
       "    }\n",
       "\n",
       "    .dataframe thead th {\n",
       "        text-align: right;\n",
       "    }\n",
       "</style>\n",
       "<table border=\"1\" class=\"dataframe\">\n",
       "  <thead>\n",
       "    <tr style=\"text-align: right;\">\n",
       "      <th></th>\n",
       "      <th>col_1</th>\n",
       "      <th>col_2</th>\n",
       "      <th>col_3</th>\n",
       "    </tr>\n",
       "  </thead>\n",
       "  <tbody>\n",
       "    <tr>\n",
       "      <th>1</th>\n",
       "      <td>1</td>\n",
       "      <td>111</td>\n",
       "      <td>alpha</td>\n",
       "    </tr>\n",
       "    <tr>\n",
       "      <th>2</th>\n",
       "      <td>2</td>\n",
       "      <td>222</td>\n",
       "      <td>bravo</td>\n",
       "    </tr>\n",
       "    <tr>\n",
       "      <th>3</th>\n",
       "      <td>3</td>\n",
       "      <td>333</td>\n",
       "      <td>charlie</td>\n",
       "    </tr>\n",
       "    <tr>\n",
       "      <th>4</th>\n",
       "      <td>4</td>\n",
       "      <td>111</td>\n",
       "      <td>NaN</td>\n",
       "    </tr>\n",
       "    <tr>\n",
       "      <th>5</th>\n",
       "      <td>5</td>\n",
       "      <td>555</td>\n",
       "      <td>NaN</td>\n",
       "    </tr>\n",
       "  </tbody>\n",
       "</table>\n",
       "</div>"
      ],
      "text/plain": [
       "   col_1  col_2    col_3\n",
       "1      1    111    alpha\n",
       "2      2    222    bravo\n",
       "3      3    333  charlie\n",
       "4      4    111      NaN\n",
       "5      5    555      NaN"
      ]
     },
     "execution_count": 374,
     "metadata": {},
     "output_type": "execute_result"
    }
   ],
   "source": [
    "df.sort_values(by='col_3') #sorts column 3 and the prints table "
   ]
  },
  {
   "cell_type": "code",
   "execution_count": 375,
   "id": "7318441e-980d-40d6-92ac-5d15df354f80",
   "metadata": {},
   "outputs": [
    {
     "data": {
      "text/plain": [
       "1    False\n",
       "2    False\n",
       "3     True\n",
       "4     True\n",
       "5     True\n",
       "Name: col_1, dtype: bool"
      ]
     },
     "execution_count": 375,
     "metadata": {},
     "output_type": "execute_result"
    }
   ],
   "source": [
    "df['col_1']>2 #boolen series"
   ]
  },
  {
   "cell_type": "code",
   "execution_count": 376,
   "id": "02fbafe8-232d-49e0-8b83-f2e1ffe3eb65",
   "metadata": {},
   "outputs": [
    {
     "data": {
      "text/plain": [
       "1    111\n",
       "2    222\n",
       "3    333\n",
       "4    111\n",
       "5    555\n",
       "Name: col_2, dtype: int64"
      ]
     },
     "execution_count": 376,
     "metadata": {},
     "output_type": "execute_result"
    }
   ],
   "source": [
    "df['col_2']"
   ]
  },
  {
   "cell_type": "code",
   "execution_count": 377,
   "id": "dd4f45fd-7d45-490d-86d1-4301a65549e2",
   "metadata": {},
   "outputs": [
    {
     "data": {
      "text/plain": [
       "1    False\n",
       "2    False\n",
       "3    False\n",
       "4     True\n",
       "5    False\n",
       "dtype: bool"
      ]
     },
     "execution_count": 377,
     "metadata": {},
     "output_type": "execute_result"
    }
   ],
   "source": [
    "# we can say, this is a boolean mask oon said conditob=n to the dataframe ,df, for filtering out results\n",
    "bool_ser=(df['col_1']>2) & (df['col_2']==111)\n",
    "bool_ser"
   ]
  },
  {
   "cell_type": "code",
   "execution_count": 378,
   "id": "61053f59-3d96-47ce-8880-f60a87bf840e",
   "metadata": {},
   "outputs": [
    {
     "data": {
      "text/html": [
       "<div>\n",
       "<style scoped>\n",
       "    .dataframe tbody tr th:only-of-type {\n",
       "        vertical-align: middle;\n",
       "    }\n",
       "\n",
       "    .dataframe tbody tr th {\n",
       "        vertical-align: top;\n",
       "    }\n",
       "\n",
       "    .dataframe thead th {\n",
       "        text-align: right;\n",
       "    }\n",
       "</style>\n",
       "<table border=\"1\" class=\"dataframe\">\n",
       "  <thead>\n",
       "    <tr style=\"text-align: right;\">\n",
       "      <th></th>\n",
       "      <th>col_1</th>\n",
       "      <th>col_2</th>\n",
       "      <th>col_3</th>\n",
       "    </tr>\n",
       "  </thead>\n",
       "  <tbody>\n",
       "    <tr>\n",
       "      <th>4</th>\n",
       "      <td>4</td>\n",
       "      <td>111</td>\n",
       "      <td>NaN</td>\n",
       "    </tr>\n",
       "  </tbody>\n",
       "</table>\n",
       "</div>"
      ],
      "text/plain": [
       "   col_1  col_2 col_3\n",
       "4      4    111   NaN"
      ]
     },
     "execution_count": 378,
     "metadata": {},
     "output_type": "execute_result"
    }
   ],
   "source": [
    "result=df[bool_ser]\n",
    "result"
   ]
  },
  {
   "cell_type": "code",
   "execution_count": 379,
   "id": "ed26e147-ab13-42a1-bab8-f8c84e831a8b",
   "metadata": {},
   "outputs": [],
   "source": [
    "def square(value):\n",
    "    return value**2\n",
    "#our customized or user defined fuction to find the square \n"
   ]
  },
  {
   "cell_type": "code",
   "execution_count": 380,
   "id": "07f8fda7-69b0-44ff-be28-24a016ac90b0",
   "metadata": {},
   "outputs": [
    {
     "data": {
      "text/plain": [
       "1     1\n",
       "2     4\n",
       "3     9\n",
       "4    16\n",
       "5    25\n",
       "Name: col_1, dtype: int64"
      ]
     },
     "execution_count": 380,
     "metadata": {},
     "output_type": "execute_result"
    }
   ],
   "source": [
    "df['col_1'].apply(square)"
   ]
  },
  {
   "cell_type": "code",
   "execution_count": 381,
   "id": "64b62447-5119-433d-af48-36c0bdedfe57",
   "metadata": {},
   "outputs": [
    {
     "data": {
      "text/plain": [
       "1     2\n",
       "2     4\n",
       "3     6\n",
       "4     8\n",
       "5    10\n",
       "Name: col_1, dtype: int64"
      ]
     },
     "execution_count": 381,
     "metadata": {},
     "output_type": "execute_result"
    }
   ],
   "source": [
    "df['col_1'].apply(lambda value:value*2)"
   ]
  },
  {
   "cell_type": "code",
   "execution_count": 382,
   "id": "4d3da1f5-0f59-4c32-bbea-1acd6951bc0d",
   "metadata": {},
   "outputs": [
    {
     "data": {
      "text/plain": [
       "1    5\n",
       "2    5\n",
       "3    7\n",
       "Name: col_3, dtype: int64"
      ]
     },
     "execution_count": 382,
     "metadata": {},
     "output_type": "execute_result"
    }
   ],
   "source": [
    "df['col_3'][0:3].apply(len)\n",
    "\n",
    "#object type of float doesnt have len\n",
    "\n"
   ]
  },
  {
   "cell_type": "code",
   "execution_count": 383,
   "id": "ce2887d2-4745-4b35-8bf7-37c2567f9202",
   "metadata": {},
   "outputs": [
    {
     "data": {
      "text/plain": [
       "float"
      ]
     },
     "execution_count": 383,
     "metadata": {},
     "output_type": "execute_result"
    }
   ],
   "source": [
    "type(np.nan)"
   ]
  },
  {
   "cell_type": "code",
   "execution_count": 384,
   "id": "c48d114b-a0a8-485f-8575-d6981ab3b8bf",
   "metadata": {},
   "outputs": [
    {
     "data": {
      "text/plain": [
       "Index([1, 2, 3, 4, 5], dtype='int64')"
      ]
     },
     "execution_count": 384,
     "metadata": {},
     "output_type": "execute_result"
    }
   ],
   "source": [
    "df.index"
   ]
  },
  {
   "cell_type": "code",
   "execution_count": 385,
   "id": "7ef2b153-ed37-4900-8c73-1bcca0cf99e7",
   "metadata": {},
   "outputs": [
    {
     "data": {
      "text/plain": [
       "Index(['col_1', 'col_2', 'col_3'], dtype='object')"
      ]
     },
     "execution_count": 385,
     "metadata": {},
     "output_type": "execute_result"
    }
   ],
   "source": [
    "df.columns"
   ]
  },
  {
   "cell_type": "code",
   "execution_count": 386,
   "id": "64c0b109-decd-421b-802b-0b1f210f7a0a",
   "metadata": {},
   "outputs": [
    {
     "name": "stdout",
     "output_type": "stream",
     "text": [
      "   col_2    col_3\n",
      "1    111    alpha\n",
      "2    222    bravo\n",
      "3    333  charlie\n",
      "4    111      NaN\n",
      "5    555      NaN\n",
      "   col_1  col_2    col_3\n",
      "1      1    111    alpha\n",
      "2      2    222    bravo\n",
      "3      3    333  charlie\n",
      "4      4    111      NaN\n",
      "5      5    555      NaN\n"
     ]
    }
   ],
   "source": [
    "#deleting rows (axis=0) or column (axis=1)\n",
    "print(df.drop('col_1',axis=1))\n",
    "print(df)"
   ]
  },
  {
   "cell_type": "code",
   "execution_count": 387,
   "id": "6bc8764a-4dc1-4feb-9b87-f1913b82e1c3",
   "metadata": {},
   "outputs": [
    {
     "name": "stdout",
     "output_type": "stream",
     "text": [
      "   col_1  col_2    col_3\n",
      "1      1    111    alpha\n",
      "2      2    222    bravo\n",
      "3      3    333  charlie\n",
      "4      4    111      NaN\n",
      "5      5    555      NaN\n"
     ]
    },
    {
     "data": {
      "text/html": [
       "<div>\n",
       "<style scoped>\n",
       "    .dataframe tbody tr th:only-of-type {\n",
       "        vertical-align: middle;\n",
       "    }\n",
       "\n",
       "    .dataframe tbody tr th {\n",
       "        vertical-align: top;\n",
       "    }\n",
       "\n",
       "    .dataframe thead th {\n",
       "        text-align: right;\n",
       "    }\n",
       "</style>\n",
       "<table border=\"1\" class=\"dataframe\">\n",
       "  <thead>\n",
       "    <tr style=\"text-align: right;\">\n",
       "      <th></th>\n",
       "      <th>col_2</th>\n",
       "      <th>col_3</th>\n",
       "    </tr>\n",
       "  </thead>\n",
       "  <tbody>\n",
       "    <tr>\n",
       "      <th>1</th>\n",
       "      <td>111</td>\n",
       "      <td>alpha</td>\n",
       "    </tr>\n",
       "    <tr>\n",
       "      <th>2</th>\n",
       "      <td>222</td>\n",
       "      <td>bravo</td>\n",
       "    </tr>\n",
       "    <tr>\n",
       "      <th>3</th>\n",
       "      <td>333</td>\n",
       "      <td>charlie</td>\n",
       "    </tr>\n",
       "    <tr>\n",
       "      <th>4</th>\n",
       "      <td>111</td>\n",
       "      <td>NaN</td>\n",
       "    </tr>\n",
       "    <tr>\n",
       "      <th>5</th>\n",
       "      <td>555</td>\n",
       "      <td>NaN</td>\n",
       "    </tr>\n",
       "  </tbody>\n",
       "</table>\n",
       "</div>"
      ],
      "text/plain": [
       "   col_2    col_3\n",
       "1    111    alpha\n",
       "2    222    bravo\n",
       "3    333  charlie\n",
       "4    111      NaN\n",
       "5    555      NaN"
      ]
     },
     "execution_count": 387,
     "metadata": {},
     "output_type": "execute_result"
    }
   ],
   "source": [
    "newdf=df.copy()\n",
    "#creating a copy\n",
    "\n",
    "print(newdf)\n",
    "\n",
    "del newdf['col_1']\n",
    "newdf"
   ]
  },
  {
   "cell_type": "code",
   "execution_count": 388,
   "id": "47223995-32e7-46a5-9cc4-ae075ae782dc",
   "metadata": {},
   "outputs": [
    {
     "data": {
      "text/plain": [
       "Index([1, 2, 3, 4, 5], dtype='int64')"
      ]
     },
     "execution_count": 388,
     "metadata": {},
     "output_type": "execute_result"
    }
   ],
   "source": [
    "df.index"
   ]
  },
  {
   "cell_type": "code",
   "execution_count": null,
   "id": "231d8d26-98c6-4a5d-9571-d38594c87043",
   "metadata": {},
   "outputs": [],
   "source": [
    "df.pivot_tables((values='col_2',index='col_1',colums=['col_3'])"
   ]
  }
 ],
 "metadata": {
  "kernelspec": {
   "display_name": "Python 3 (ipykernel)",
   "language": "python",
   "name": "python3"
  },
  "language_info": {
   "codemirror_mode": {
    "name": "ipython",
    "version": 3
   },
   "file_extension": ".py",
   "mimetype": "text/x-python",
   "name": "python",
   "nbconvert_exporter": "python",
   "pygments_lexer": "ipython3",
   "version": "3.10.11"
  }
 },
 "nbformat": 4,
 "nbformat_minor": 5
}
