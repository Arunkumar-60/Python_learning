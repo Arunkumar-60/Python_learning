{
 "cells": [
  {
   "cell_type": "code",
   "execution_count": null,
   "id": "62c34f57-ed07-4d4e-909f-41116af8f015",
   "metadata": {},
   "outputs": [],
   "source": [
    "import numpy as np\n",
    "import pandas as pd"
   ]
  },
  {
   "cell_type": "code",
   "execution_count": null,
   "id": "b482d42f-4217-49b3-b73f-751d75c3b5c7",
   "metadata": {},
   "outputs": [],
   "source": [
    "index=[['a','a','a','b','b','b','c','c','c','d','d'],\n",
    "      [1,2,3,1,2,3,1,2,1,2]]\n",
    "\n",
    "ser=pd.Series(np.random.randn(10),index=index)"
   ]
  }
 ],
 "metadata": {
  "kernelspec": {
   "display_name": "Python 3 (ipykernel)",
   "language": "python",
   "name": "python3"
  },
  "language_info": {
   "codemirror_mode": {
    "name": "ipython",
    "version": 3
   },
   "file_extension": ".py",
   "mimetype": "text/x-python",
   "name": "python",
   "nbconvert_exporter": "python",
   "pygments_lexer": "ipython3",
   "version": "3.10.11"
  }
 },
 "nbformat": 4,
 "nbformat_minor": 5
}
