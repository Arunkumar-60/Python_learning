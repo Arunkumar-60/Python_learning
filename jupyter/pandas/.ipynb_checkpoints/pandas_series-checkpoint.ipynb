{
 "cells": [
  {
   "cell_type": "code",
   "execution_count": 12,
   "id": "48b2a99b-5b2a-4c52-b479-7e58b8cee8ec",
   "metadata": {},
   "outputs": [],
   "source": [
    "import numpy as np\n",
    "import pandas as pd"
   ]
  },
  {
   "cell_type": "code",
   "execution_count": 13,
   "id": "548ccb83-6cd5-4c3f-99b5-7c61a20aeed2",
   "metadata": {},
   "outputs": [],
   "source": [
    "my_labels=['x','y','z']\n",
    "my_data=[100,200,300]"
   ]
  },
  {
   "cell_type": "code",
   "execution_count": 14,
   "id": "3b2452c9-37a2-4f50-878e-a09d397d85d8",
   "metadata": {},
   "outputs": [
    {
     "data": {
      "text/plain": [
       "0    100\n",
       "1    200\n",
       "2    300\n",
       "dtype: int64"
      ]
     },
     "execution_count": 14,
     "metadata": {},
     "output_type": "execute_result"
    }
   ],
   "source": [
    "pd.Series(data=my_data)\n",
    "#converting python list to pandas list\n",
    "#Shift + TAB will focus on data and index at the moment"
   ]
  },
  {
   "cell_type": "code",
   "execution_count": null,
   "id": "ee37892b",
   "metadata": {},
   "outputs": [],
   "source": [
    "#ser"
   ]
  }
 ],
 "metadata": {
  "kernelspec": {
   "display_name": "Python 3 (ipykernel)",
   "language": "python",
   "name": "python3"
  },
  "language_info": {
   "codemirror_mode": {
    "name": "ipython",
    "version": 3
   },
   "file_extension": ".py",
   "mimetype": "text/x-python",
   "name": "python",
   "nbconvert_exporter": "python",
   "pygments_lexer": "ipython3",
   "version": "3.11.1"
  }
 },
 "nbformat": 4,
 "nbformat_minor": 5
}
