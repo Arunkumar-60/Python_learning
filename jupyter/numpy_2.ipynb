{
 "cells": [
  {
   "cell_type": "code",
   "execution_count": 1,
   "id": "452f3bfd-2589-4e1e-b8ef-3dd61c067bbb",
   "metadata": {},
   "outputs": [],
   "source": [
    "import numpy as np"
   ]
  },
  {
   "cell_type": "code",
   "execution_count": 2,
   "id": "f8de4666-99cd-49a9-bc5d-2ecc24d49c8f",
   "metadata": {},
   "outputs": [],
   "source": [
    "array_1d=np.array([-1,2,0,12,-1,21,23,-12,12])"
   ]
  },
  {
   "cell_type": "code",
   "execution_count": 3,
   "id": "3333a610-241c-4f82-a422-4556a27472f2",
   "metadata": {},
   "outputs": [
    {
     "data": {
      "text/plain": [
       "-1"
      ]
     },
     "execution_count": 3,
     "metadata": {},
     "output_type": "execute_result"
    }
   ],
   "source": [
    "np.array([-1,2,0,12,-1,21,23,-12,12])[0]"
   ]
  },
  {
   "cell_type": "code",
   "execution_count": 4,
   "id": "ccd83c69-328b-4b5c-8dad-b43ecdba02b6",
   "metadata": {},
   "outputs": [
    {
     "data": {
      "text/plain": [
       "array([-1,  2,  0])"
      ]
     },
     "execution_count": 4,
     "metadata": {},
     "output_type": "execute_result"
    }
   ],
   "source": [
    "np.array([-1,2,0,12,-1,21,23,-12,12])[0:3]"
   ]
  },
  {
   "cell_type": "code",
   "execution_count": 5,
   "id": "fd98ae4e-e38a-4ee4-9cd0-a3af8ff5ade8",
   "metadata": {},
   "outputs": [
    {
     "data": {
      "text/plain": [
       "-12"
      ]
     },
     "execution_count": 5,
     "metadata": {},
     "output_type": "execute_result"
    }
   ],
   "source": [
    "np.array([-1,2,0,12,-1,21,23,-12,12])[-2]"
   ]
  },
  {
   "cell_type": "code",
   "execution_count": 6,
   "id": "96834ea1-21ca-44f6-b600-0e514e9d43a3",
   "metadata": {},
   "outputs": [
    {
     "data": {
      "text/plain": [
       "array([ 2,  0, 12, -1, 21, 23])"
      ]
     },
     "execution_count": 6,
     "metadata": {},
     "output_type": "execute_result"
    }
   ],
   "source": [
    "np.array([-1,2,0,12,-1,21,23,-12,12])[1:-2]"
   ]
  },
  {
   "cell_type": "code",
   "execution_count": 7,
   "id": "50dac097-6682-4faf-92af-1ab508188c41",
   "metadata": {},
   "outputs": [
    {
     "data": {
      "text/plain": [
       "array([-1,  2])"
      ]
     },
     "execution_count": 7,
     "metadata": {},
     "output_type": "execute_result"
    }
   ],
   "source": [
    "array_1d[:2]"
   ]
  },
  {
   "cell_type": "code",
   "execution_count": 8,
   "id": "576b774a-2e7d-4980-b84e-ec003b408755",
   "metadata": {},
   "outputs": [
    {
     "data": {
      "text/plain": [
       "array([ 12,  -1,  21,  23, -12,  12])"
      ]
     },
     "execution_count": 8,
     "metadata": {},
     "output_type": "execute_result"
    }
   ],
   "source": [
    "array_1d[3:]"
   ]
  },
  {
   "cell_type": "code",
   "execution_count": 9,
   "id": "26353fbf-4d0a-464f-bb58-3872ff23f362",
   "metadata": {},
   "outputs": [
    {
     "data": {
      "text/plain": [
       "array([[ 0,  1,  2,  3],\n",
       "       [ 4,  5,  6,  7],\n",
       "       [ 8,  9, 10, 11],\n",
       "       [12, 13, 14, 15],\n",
       "       [16, 17, 18, 19],\n",
       "       [20, 21, 22, 23]])"
      ]
     },
     "execution_count": 9,
     "metadata": {},
     "output_type": "execute_result"
    }
   ],
   "source": [
    "arun=np.arange(24)\n",
    "arun.shape=(6,4)\n",
    "arun"
   ]
  },
  {
   "cell_type": "code",
   "execution_count": 10,
   "id": "05710e9e-8220-4cae-a3c7-6c2f5e8fe866",
   "metadata": {},
   "outputs": [
    {
     "data": {
      "text/plain": [
       "array([ 8,  9, 10, 11])"
      ]
     },
     "execution_count": 10,
     "metadata": {},
     "output_type": "execute_result"
    }
   ],
   "source": [
    "arun[2]"
   ]
  },
  {
   "cell_type": "code",
   "execution_count": 11,
   "id": "2fdd5047-3467-4647-8201-68bd072c4e80",
   "metadata": {},
   "outputs": [
    {
     "data": {
      "text/plain": [
       "array([12, 13, 14, 15])"
      ]
     },
     "execution_count": 11,
     "metadata": {},
     "output_type": "execute_result"
    }
   ],
   "source": [
    "arun[-3]"
   ]
  },
  {
   "cell_type": "code",
   "execution_count": 12,
   "id": "f16e013d-6644-4db5-af9f-088d5fb54d39",
   "metadata": {},
   "outputs": [
    {
     "data": {
      "text/plain": [
       "19"
      ]
     },
     "execution_count": 12,
     "metadata": {},
     "output_type": "execute_result"
    }
   ],
   "source": [
    "arun[4,3]"
   ]
  },
  {
   "cell_type": "code",
   "execution_count": 13,
   "id": "0a53041d-642e-42d6-b490-089df42dd580",
   "metadata": {},
   "outputs": [
    {
     "data": {
      "text/plain": [
       "10"
      ]
     },
     "execution_count": 13,
     "metadata": {},
     "output_type": "execute_result"
    }
   ],
   "source": [
    "r=2\n",
    "c=2\n",
    "arun[r,c]"
   ]
  },
  {
   "cell_type": "code",
   "execution_count": 14,
   "id": "7d54ac9c-879a-470d-9856-7755c758c17e",
   "metadata": {},
   "outputs": [
    {
     "data": {
      "text/plain": [
       "10"
      ]
     },
     "execution_count": 14,
     "metadata": {},
     "output_type": "execute_result"
    }
   ],
   "source": [
    "arun[c,r]"
   ]
  },
  {
   "cell_type": "code",
   "execution_count": 15,
   "id": "bb98f1eb-6d8b-4030-bbfa-1f769648460c",
   "metadata": {},
   "outputs": [
    {
     "data": {
      "text/plain": [
       "array([[10],\n",
       "       [14]])"
      ]
     },
     "execution_count": 15,
     "metadata": {},
     "output_type": "execute_result"
    }
   ],
   "source": [
    "arun[2:4,2:3]"
   ]
  },
  {
   "cell_type": "code",
   "execution_count": 16,
   "id": "17b6e75b-33c9-4d57-940b-d7b2715a5f0f",
   "metadata": {},
   "outputs": [
    {
     "data": {
      "text/plain": [
       "array([[10, 11],\n",
       "       [14, 15]])"
      ]
     },
     "execution_count": 16,
     "metadata": {},
     "output_type": "execute_result"
    }
   ],
   "source": [
    "arun[2:4,2:4]"
   ]
  },
  {
   "cell_type": "code",
   "execution_count": 17,
   "id": "3532968b-1ec1-4716-ab9a-12ac2c9b7a06",
   "metadata": {},
   "outputs": [],
   "source": [
    "array_1d=np.arange(0,10)\n",
    "#creating a 1d array"
   ]
  },
  {
   "cell_type": "code",
   "execution_count": 18,
   "id": "d2dd18dc-64d6-40b1-9d27-e0e5bca465a7",
   "metadata": {},
   "outputs": [
    {
     "data": {
      "text/plain": [
       "array([0, 1, 2, 3, 4, 5, 6, 7, 8, 9])"
      ]
     },
     "execution_count": 18,
     "metadata": {},
     "output_type": "execute_result"
    }
   ],
   "source": [
    "array_1d"
   ]
  },
  {
   "cell_type": "code",
   "execution_count": 19,
   "id": "4f351bf6-19b0-4bf4-855d-c459d06e376f",
   "metadata": {},
   "outputs": [],
   "source": [
    "array_1d[0:5]=500\n"
   ]
  },
  {
   "cell_type": "code",
   "execution_count": 20,
   "id": "9d5663c4-0c2d-4dca-a765-2c2c86c52943",
   "metadata": {},
   "outputs": [
    {
     "data": {
      "text/plain": [
       "array([500, 500, 500, 500, 500,   5,   6,   7,   8,   9])"
      ]
     },
     "execution_count": 20,
     "metadata": {},
     "output_type": "execute_result"
    }
   ],
   "source": [
    "array_1d"
   ]
  },
  {
   "cell_type": "code",
   "execution_count": 21,
   "id": "10335b9b-ad5e-4b87-a806-aee70ad3eaf1",
   "metadata": {},
   "outputs": [],
   "source": [
    "array_2d=np.ones((4,4))"
   ]
  },
  {
   "cell_type": "code",
   "execution_count": 22,
   "id": "c0c2f5f7-908b-45c8-b98b-b469d2253ddf",
   "metadata": {},
   "outputs": [],
   "source": [
    "array_2d[0]=300"
   ]
  },
  {
   "cell_type": "code",
   "execution_count": 23,
   "id": "84ea8b23-2c78-4e86-97c7-1a817f0f4877",
   "metadata": {},
   "outputs": [
    {
     "data": {
      "text/plain": [
       "array([[300., 300., 300., 300.],\n",
       "       [  1.,   1.,   1.,   1.],\n",
       "       [  1.,   1.,   1.,   1.],\n",
       "       [  1.,   1.,   1.,   1.]])"
      ]
     },
     "execution_count": 23,
     "metadata": {},
     "output_type": "execute_result"
    }
   ],
   "source": [
    "array_2d"
   ]
  },
  {
   "cell_type": "code",
   "execution_count": 24,
   "id": "32435c64-5654-4214-87a1-7a7f1417a1ee",
   "metadata": {},
   "outputs": [
    {
     "data": {
      "text/plain": [
       "array([[300., 301., 302., 303.],\n",
       "       [  1.,   2.,   3.,   4.],\n",
       "       [  1.,   2.,   3.,   4.],\n",
       "       [  1.,   2.,   3.,   4.]])"
      ]
     },
     "execution_count": 24,
     "metadata": {},
     "output_type": "execute_result"
    }
   ],
   "source": [
    "#lets create a simpolke 1d array and brodcast to 2D_array\n",
    "array_2d+[0,1,2,3]"
   ]
  },
  {
   "cell_type": "code",
   "execution_count": 25,
   "id": "240f3b00-60e6-468c-b4ca-fe44797f6168",
   "metadata": {},
   "outputs": [
    {
     "data": {
      "text/plain": [
       "array([[600., 600., 600., 600.],\n",
       "       [301., 301., 301., 301.],\n",
       "       [301., 301., 301., 301.],\n",
       "       [301., 301., 301., 301.]])"
      ]
     },
     "execution_count": 25,
     "metadata": {},
     "output_type": "execute_result"
    }
   ],
   "source": [
    "array_2d+300\n",
    "#array_2d + [300,2] , did it works? if not why?"
   ]
  },
  {
   "cell_type": "code",
   "execution_count": 44,
   "id": "a12ac67a-05bc-4a6f-baec-4aa0daa83f48",
   "metadata": {},
   "outputs": [
    {
     "data": {
      "text/plain": [
       "array([[0],\n",
       "       [1],\n",
       "       [2],\n",
       "       [3]])"
      ]
     },
     "execution_count": 44,
     "metadata": {},
     "output_type": "execute_result"
    }
   ],
   "source": [
    "array_1=np.arange(1,4)\n",
    "array_2=np.arange(0,4)[:,np.newaxis]\n",
    "#newaxis converts rows into coloumns\n",
    "array_2"
   ]
  },
  {
   "cell_type": "code",
   "execution_count": 27,
   "id": "ca1f47f2-d0db-4ef0-8955-1871430c21d8",
   "metadata": {},
   "outputs": [
    {
     "name": "stdout",
     "output_type": "stream",
     "text": [
      "[0 1 2 3]\n",
      "Shape of array is : (4,),this is 1-D array\n"
     ]
    }
   ],
   "source": [
    "print(array_1)\n",
    "\n",
    "print(\"Shape of array is : {},this is {}-D array\"\\\n",
    "     .format(array_1.shape,len(array_1.shape)))"
   ]
  },
  {
   "cell_type": "code",
   "execution_count": 28,
   "id": "7388d623-19c8-4f24-b7db-42714b85da39",
   "metadata": {},
   "outputs": [
    {
     "name": "stdout",
     "output_type": "stream",
     "text": [
      "[[0]\n",
      " [1]\n",
      " [2]\n",
      " [3]]\n",
      "Shape of array is : (4, 1),this is 2-D array\n"
     ]
    }
   ],
   "source": [
    "print(array_2)\n",
    "\n",
    "print(\"Shape of array is : {},this is {}-D array\"\\\n",
    "     .format(array_2.shape,len(array_2.shape)))"
   ]
  },
  {
   "cell_type": "code",
   "execution_count": 29,
   "id": "af50888a-3188-4b42-b781-3bbc05ca2add",
   "metadata": {},
   "outputs": [
    {
     "data": {
      "text/plain": [
       "array([[0, 1, 2, 3],\n",
       "       [1, 2, 3, 4],\n",
       "       [2, 3, 4, 5],\n",
       "       [3, 4, 5, 6]])"
      ]
     },
     "execution_count": 29,
     "metadata": {},
     "output_type": "execute_result"
    }
   ],
   "source": [
    "array_1+array_2"
   ]
  },
  {
   "cell_type": "code",
   "execution_count": 30,
   "id": "d8025428-7fb2-4037-a6ed-10e7128c896b",
   "metadata": {},
   "outputs": [],
   "source": [
    "array_2d=np.zeros((5,5)) #create zero matrix of size 5X5"
   ]
  },
  {
   "cell_type": "code",
   "execution_count": 31,
   "id": "b58fe052-b8d6-4ac2-b677-a4fb0534e050",
   "metadata": {},
   "outputs": [
    {
     "data": {
      "text/plain": [
       "array([[0., 0., 0., 0., 0.],\n",
       "       [1., 1., 1., 1., 1.],\n",
       "       [2., 2., 2., 2., 2.],\n",
       "       [3., 3., 3., 3., 3.],\n",
       "       [4., 4., 4., 4., 4.]])"
      ]
     },
     "execution_count": 31,
     "metadata": {},
     "output_type": "execute_result"
    }
   ],
   "source": [
    "array_2d.shape[1] # => (5,)\n",
    "#shape of the first row\n",
    "for i in range(array_2d.shape[1]): #takes just int 5 as range argumentarr\n",
    "    array_2d[i]=i\n",
    "array_2d"
   ]
  },
  {
   "cell_type": "code",
   "execution_count": 32,
   "id": "e4f7eecc-0b73-4d5e-89a1-8af27705c88d",
   "metadata": {},
   "outputs": [
    {
     "data": {
      "text/plain": [
       "array([[1., 1., 1., 1., 1.],\n",
       "       [2., 2., 2., 2., 2.],\n",
       "       [3., 3., 3., 3., 3.]])"
      ]
     },
     "execution_count": 32,
     "metadata": {},
     "output_type": "execute_result"
    }
   ],
   "source": [
    "array_2d[[1,2,3]] #returns the rows of purticular indexs"
   ]
  },
  {
   "cell_type": "code",
   "execution_count": 33,
   "id": "2cbb6220-772f-46cf-95e7-6866109f66b7",
   "metadata": {},
   "outputs": [
    {
     "data": {
      "text/plain": [
       "array([[3., 3., 3., 3., 3.],\n",
       "       [0., 0., 0., 0., 0.],\n",
       "       [4., 4., 4., 4., 4.]])"
      ]
     },
     "execution_count": 33,
     "metadata": {},
     "output_type": "execute_result"
    }
   ],
   "source": [
    "array_2d[[3,0,4]] #returns the rows of purticular indexs in any order "
   ]
  },
  {
   "cell_type": "code",
   "execution_count": 34,
   "id": "ba6c2cab-70c4-441a-8acb-461cde2aedbf",
   "metadata": {},
   "outputs": [
    {
     "data": {
      "text/plain": [
       "array([[ 0,  1,  2,  3],\n",
       "       [ 4,  5,  6,  7],\n",
       "       [ 8,  9, 10, 11],\n",
       "       [12, 13, 14, 15],\n",
       "       [16, 17, 18, 19],\n",
       "       [20, 21, 22, 23]])"
      ]
     },
     "execution_count": 34,
     "metadata": {},
     "output_type": "execute_result"
    }
   ],
   "source": [
    "#lets try another matrix\n",
    "array_2d=np.arange(24)\n",
    "array_2d.shape=(6,4)\n",
    "array_2d"
   ]
  },
  {
   "cell_type": "code",
   "execution_count": 35,
   "id": "88f43fc7-7799-4b63-b103-b886b9f15742",
   "metadata": {},
   "outputs": [
    {
     "data": {
      "text/plain": [
       "array([[ 8,  9, 10, 11],\n",
       "       [16, 17, 18, 19]])"
      ]
     },
     "execution_count": 35,
     "metadata": {},
     "output_type": "execute_result"
    }
   ],
   "source": [
    "#grabing rows\n",
    "array_2d[[2,4]]"
   ]
  },
  {
   "cell_type": "code",
   "execution_count": 36,
   "id": "95aa4d29-2ed9-4d77-bd90-9f264e05df9f",
   "metadata": {},
   "outputs": [
    {
     "data": {
      "text/plain": [
       "array([[ 3,  2],\n",
       "       [ 7,  6],\n",
       "       [11, 10],\n",
       "       [15, 14],\n",
       "       [19, 18],\n",
       "       [23, 22]])"
      ]
     },
     "execution_count": 36,
     "metadata": {},
     "output_type": "execute_result"
    }
   ],
   "source": [
    "#grabing cloumns\n",
    "array_2d[:,[3,2]]"
   ]
  },
  {
   "cell_type": "code",
   "execution_count": 37,
   "id": "f95464f7-eece-4e9d-85cf-171a87fdb020",
   "metadata": {},
   "outputs": [
    {
     "data": {
      "text/plain": [
       "array([0, 1, 2, 3, 4, 5, 6, 7, 8, 9])"
      ]
     },
     "execution_count": 37,
     "metadata": {},
     "output_type": "execute_result"
    }
   ],
   "source": [
    "#lets simply create array using arange\n",
    "array_1d=np.arange(10)\n",
    "array_1d"
   ]
  },
  {
   "cell_type": "code",
   "execution_count": 38,
   "id": "1c7b7ba2-41bc-492c-bb4a-ca1814dd4693",
   "metadata": {},
   "outputs": [
    {
     "name": "stdout",
     "output_type": "stream",
     "text": [
      "[[False False False False]\n",
      " [ True  True  True  True]\n",
      " [ True  True  True  True]\n",
      " [ True  True  True  True]\n",
      " [ True  True  True  True]\n",
      " [ True  True  True  True]]\n",
      "\n",
      " line break \n",
      "\n"
     ]
    },
    {
     "data": {
      "text/plain": [
       "array([False, False, False, False,  True,  True,  True,  True,  True,\n",
       "        True])"
      ]
     },
     "execution_count": 38,
     "metadata": {},
     "output_type": "execute_result"
    }
   ],
   "source": [
    "#lets create a bollean_array for a purticular condition\n",
    "\n",
    "boll_array=array_2d>3\n",
    "print(boll_array)\n",
    "print(\"\\n line break \\n\")\n",
    "boll_array=array_1d>3\n",
    "boll_array"
   ]
  },
  {
   "cell_type": "code",
   "execution_count": 39,
   "id": "cdabe715-492c-4244-906f-74d316dd333d",
   "metadata": {},
   "outputs": [
    {
     "data": {
      "text/plain": [
       "array([ True, False,  True, False,  True, False,  True, False,  True,\n",
       "       False])"
      ]
     },
     "execution_count": 39,
     "metadata": {},
     "output_type": "execute_result"
    }
   ],
   "source": [
    "# a number is even or not , boll_array\n",
    "mod_2_mask_1d=0 == array_1d % 2\n",
    "mod_2_mask_1d"
   ]
  },
  {
   "cell_type": "code",
   "execution_count": 40,
   "id": "223592fa-4dd3-41dc-8986-37a0ab7a556d",
   "metadata": {},
   "outputs": [
    {
     "data": {
      "text/plain": [
       "array([0, 2, 4, 6, 8])"
      ]
     },
     "execution_count": 40,
     "metadata": {},
     "output_type": "execute_result"
    }
   ],
   "source": [
    "#boolean masking with data\n",
    "\n",
    "even_values=array_1d[mod_2_mask_1d] #returns value when its true\n",
    "type(even_values) #masking is similar to mapping\n",
    "even_values\n"
   ]
  },
  {
   "cell_type": "code",
   "execution_count": 41,
   "id": "66b19c8c-6f92-435c-a652-0a5a499bfaa8",
   "metadata": {},
   "outputs": [
    {
     "name": "stdout",
     "output_type": "stream",
     "text": [
      "[[ 0  1  2  3]\n",
      " [ 4  5  6  7]\n",
      " [ 8  9 10 11]\n",
      " [12 13 14 15]\n",
      " [16 17 18 19]\n",
      " [20 21 22 23]]\n",
      "[[ True False  True False]\n",
      " [ True False  True False]\n",
      " [ True False  True False]\n",
      " [ True False  True False]\n",
      " [ True False  True False]\n",
      " [ True False  True False]]\n"
     ]
    }
   ],
   "source": [
    "#lets do the same with 2d array\n",
    "array_2d=np.arange(24)\n",
    "array_2d.shape=(6,4)\n",
    "print(array_2d)\n",
    "mask_mod_2d=0==array_2d %2\n",
    "print(mask_mod_2d)\n"
   ]
  },
  {
   "cell_type": "code",
   "execution_count": 42,
   "id": "06b3e01a-657e-4e1b-a83c-019973fdfda7",
   "metadata": {},
   "outputs": [
    {
     "data": {
      "text/plain": [
       "array([ 0,  2,  4,  6,  8, 10, 12, 14, 16, 18, 20, 22])"
      ]
     },
     "execution_count": 42,
     "metadata": {},
     "output_type": "execute_result"
    }
   ],
   "source": [
    "array_2d[mask_mod_2d]"
   ]
  },
  {
   "cell_type": "code",
   "execution_count": 43,
   "id": "b111223c-7f5b-4428-a348-63d407061e9a",
   "metadata": {},
   "outputs": [
    {
     "name": "stdout",
     "output_type": "stream",
     "text": [
      "[ 0  2  4  6  8 10 12 14 16 18 20 22]\n"
     ]
    }
   ],
   "source": [
    "print(array_2d[mask_mod_2d])"
   ]
  },
  {
   "cell_type": "code",
   "execution_count": null,
   "id": "75422721-2afd-45b1-98d5-58419ae6889c",
   "metadata": {},
   "outputs": [],
   "source": []
  }
 ],
 "metadata": {
  "kernelspec": {
   "display_name": "Python 3 (ipykernel)",
   "language": "python",
   "name": "python3"
  },
  "language_info": {
   "codemirror_mode": {
    "name": "ipython",
    "version": 3
   },
   "file_extension": ".py",
   "mimetype": "text/x-python",
   "name": "python",
   "nbconvert_exporter": "python",
   "pygments_lexer": "ipython3",
   "version": "3.11.1"
  }
 },
 "nbformat": 4,
 "nbformat_minor": 5
}
