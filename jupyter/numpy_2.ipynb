{
 "cells": [
  {
   "cell_type": "code",
   "execution_count": 99,
   "id": "452f3bfd-2589-4e1e-b8ef-3dd61c067bbb",
   "metadata": {},
   "outputs": [],
   "source": [
    "import numpy as np"
   ]
  },
  {
   "cell_type": "code",
   "execution_count": 100,
   "id": "f8de4666-99cd-49a9-bc5d-2ecc24d49c8f",
   "metadata": {},
   "outputs": [],
   "source": [
    "array_1d=np.array([-1,2,0,12,-1,21,23,-12,12])"
   ]
  },
  {
   "cell_type": "code",
   "execution_count": 101,
   "id": "3333a610-241c-4f82-a422-4556a27472f2",
   "metadata": {},
   "outputs": [
    {
     "data": {
      "text/plain": [
       "-1"
      ]
     },
     "execution_count": 101,
     "metadata": {},
     "output_type": "execute_result"
    }
   ],
   "source": [
    "np.array([-1,2,0,12,-1,21,23,-12,12])[0]"
   ]
  },
  {
   "cell_type": "code",
   "execution_count": 102,
   "id": "ccd83c69-328b-4b5c-8dad-b43ecdba02b6",
   "metadata": {},
   "outputs": [
    {
     "data": {
      "text/plain": [
       "array([-1,  2,  0])"
      ]
     },
     "execution_count": 102,
     "metadata": {},
     "output_type": "execute_result"
    }
   ],
   "source": [
    "np.array([-1,2,0,12,-1,21,23,-12,12])[0:3]"
   ]
  },
  {
   "cell_type": "code",
   "execution_count": 103,
   "id": "fd98ae4e-e38a-4ee4-9cd0-a3af8ff5ade8",
   "metadata": {},
   "outputs": [
    {
     "data": {
      "text/plain": [
       "-12"
      ]
     },
     "execution_count": 103,
     "metadata": {},
     "output_type": "execute_result"
    }
   ],
   "source": [
    "np.array([-1,2,0,12,-1,21,23,-12,12])[-2]"
   ]
  },
  {
   "cell_type": "code",
   "execution_count": 104,
   "id": "96834ea1-21ca-44f6-b600-0e514e9d43a3",
   "metadata": {},
   "outputs": [
    {
     "data": {
      "text/plain": [
       "array([ 2,  0, 12, -1, 21, 23])"
      ]
     },
     "execution_count": 104,
     "metadata": {},
     "output_type": "execute_result"
    }
   ],
   "source": [
    "np.array([-1,2,0,12,-1,21,23,-12,12])[1:-2]"
   ]
  },
  {
   "cell_type": "code",
   "execution_count": 105,
   "id": "50dac097-6682-4faf-92af-1ab508188c41",
   "metadata": {},
   "outputs": [
    {
     "data": {
      "text/plain": [
       "array([-1,  2])"
      ]
     },
     "execution_count": 105,
     "metadata": {},
     "output_type": "execute_result"
    }
   ],
   "source": [
    "array_1d[:2]"
   ]
  },
  {
   "cell_type": "code",
   "execution_count": 106,
   "id": "576b774a-2e7d-4980-b84e-ec003b408755",
   "metadata": {},
   "outputs": [
    {
     "data": {
      "text/plain": [
       "array([ 12,  -1,  21,  23, -12,  12])"
      ]
     },
     "execution_count": 106,
     "metadata": {},
     "output_type": "execute_result"
    }
   ],
   "source": [
    "array_1d[3:]"
   ]
  },
  {
   "cell_type": "code",
   "execution_count": 107,
   "id": "26353fbf-4d0a-464f-bb58-3872ff23f362",
   "metadata": {},
   "outputs": [
    {
     "data": {
      "text/plain": [
       "array([[ 0,  1,  2,  3],\n",
       "       [ 4,  5,  6,  7],\n",
       "       [ 8,  9, 10, 11],\n",
       "       [12, 13, 14, 15],\n",
       "       [16, 17, 18, 19],\n",
       "       [20, 21, 22, 23]])"
      ]
     },
     "execution_count": 107,
     "metadata": {},
     "output_type": "execute_result"
    }
   ],
   "source": [
    "arun=np.arange(24)\n",
    "arun.shape=(6,4)\n",
    "arun"
   ]
  },
  {
   "cell_type": "code",
   "execution_count": 108,
   "id": "05710e9e-8220-4cae-a3c7-6c2f5e8fe866",
   "metadata": {},
   "outputs": [
    {
     "data": {
      "text/plain": [
       "array([ 8,  9, 10, 11])"
      ]
     },
     "execution_count": 108,
     "metadata": {},
     "output_type": "execute_result"
    }
   ],
   "source": [
    "arun[2]"
   ]
  },
  {
   "cell_type": "code",
   "execution_count": 109,
   "id": "2fdd5047-3467-4647-8201-68bd072c4e80",
   "metadata": {},
   "outputs": [
    {
     "data": {
      "text/plain": [
       "array([12, 13, 14, 15])"
      ]
     },
     "execution_count": 109,
     "metadata": {},
     "output_type": "execute_result"
    }
   ],
   "source": [
    "arun[-3]"
   ]
  },
  {
   "cell_type": "code",
   "execution_count": 110,
   "id": "f16e013d-6644-4db5-af9f-088d5fb54d39",
   "metadata": {},
   "outputs": [
    {
     "data": {
      "text/plain": [
       "19"
      ]
     },
     "execution_count": 110,
     "metadata": {},
     "output_type": "execute_result"
    }
   ],
   "source": [
    "arun[4,3]"
   ]
  },
  {
   "cell_type": "code",
   "execution_count": 111,
   "id": "0a53041d-642e-42d6-b490-089df42dd580",
   "metadata": {},
   "outputs": [
    {
     "data": {
      "text/plain": [
       "10"
      ]
     },
     "execution_count": 111,
     "metadata": {},
     "output_type": "execute_result"
    }
   ],
   "source": [
    "r=2\n",
    "c=2\n",
    "arun[r,c]"
   ]
  },
  {
   "cell_type": "code",
   "execution_count": 112,
   "id": "7d54ac9c-879a-470d-9856-7755c758c17e",
   "metadata": {},
   "outputs": [
    {
     "data": {
      "text/plain": [
       "10"
      ]
     },
     "execution_count": 112,
     "metadata": {},
     "output_type": "execute_result"
    }
   ],
   "source": [
    "arun[c,r]"
   ]
  },
  {
   "cell_type": "code",
   "execution_count": 113,
   "id": "bb98f1eb-6d8b-4030-bbfa-1f769648460c",
   "metadata": {},
   "outputs": [
    {
     "data": {
      "text/plain": [
       "array([[10],\n",
       "       [14]])"
      ]
     },
     "execution_count": 113,
     "metadata": {},
     "output_type": "execute_result"
    }
   ],
   "source": [
    "arun[2:4,2:3]"
   ]
  },
  {
   "cell_type": "code",
   "execution_count": 114,
   "id": "17b6e75b-33c9-4d57-940b-d7b2715a5f0f",
   "metadata": {},
   "outputs": [
    {
     "data": {
      "text/plain": [
       "array([[10, 11],\n",
       "       [14, 15]])"
      ]
     },
     "execution_count": 114,
     "metadata": {},
     "output_type": "execute_result"
    }
   ],
   "source": [
    "arun[2:4,2:4]"
   ]
  }
 ],
 "metadata": {
  "kernelspec": {
   "display_name": "Python 3 (ipykernel)",
   "language": "python",
   "name": "python3"
  },
  "language_info": {
   "codemirror_mode": {
    "name": "ipython",
    "version": 3
   },
   "file_extension": ".py",
   "mimetype": "text/x-python",
   "name": "python",
   "nbconvert_exporter": "python",
   "pygments_lexer": "ipython3",
   "version": "3.10.11"
  }
 },
 "nbformat": 4,
 "nbformat_minor": 5
}
